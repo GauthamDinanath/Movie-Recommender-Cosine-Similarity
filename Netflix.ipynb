{
  "nbformat": 4,
  "nbformat_minor": 0,
  "metadata": {
    "colab": {
      "name": "Netflix.ipynb",
      "provenance": []
    },
    "kernelspec": {
      "name": "python3",
      "display_name": "Python 3"
    }
  },
  "cells": [
    {
      "cell_type": "code",
      "metadata": {
        "id": "oYCml_LjarxJ",
        "colab_type": "code",
        "colab": {}
      },
      "source": [
        "import numpy as np\n",
        "import pandas as pd\n",
        "\n",
        "from google.colab import files\n",
        "from sklearn.metrics.pairwise import cosine_similarity\n",
        "from sklearn.feature_extraction.text import CountVectorizer,TfidfVectorizer\n",
        "import nltk\n",
        "from sklearn.preprocessing import LabelEncoder\n",
        "import matplotlib.pyplot as plt\n",
        "\n",
        "# uploaded=files.upload()"
      ],
      "execution_count": null,
      "outputs": []
    },
    {
      "cell_type": "code",
      "metadata": {
        "id": "uXfuXOp5gYqe",
        "colab_type": "code",
        "colab": {}
      },
      "source": [
        "df=pd.read_csv('netflix_titles.csv')\n",
        "df.fillna(\" \", inplace=True)\n",
        "\n",
        "df['info']= df['director'] + ' ' + df['listed_in']+' '+ df['description']\n",
        "\n",
        "l=LabelEncoder()\n",
        "df['type']=l.fit_transform(df['type'])\n",
        "df.head()"
      ],
      "execution_count": null,
      "outputs": []
    },
    {
      "cell_type": "code",
      "metadata": {
        "id": "mNB3xIV1HLl9",
        "colab_type": "code",
        "colab": {}
      },
      "source": [
        "tf = TfidfVectorizer(stop_words='english')\n",
        "x = tf.fit_transform(df['info'])\n",
        "\n",
        "cosine_sim = cosine_similarity(x)\n",
        "\n",
        "# Movie liked by the user                           \n",
        "liked_movie = 'PK'\n",
        "\n",
        "idx = df[df['title'] == liked_movie].index.values[0]\n",
        "similar_movies = list(enumerate(cosine_sim[idx]))\n",
        "sort_movies = sorted(similar_movies , key = lambda x:x[1] , reverse = True)\n",
        "sort_movies.pop(0) # popping the liked movie itself\n",
        "\n",
        "# Matching Type: TV show / Movie\n",
        "temp=[]\n",
        "for movies in sort_movies:\n",
        "    if df.type[movies[0]]==df.type[idx]:\n",
        "      temp.append(movies)\n",
        "sort_movies=temp[:6]\n",
        "\n",
        "for movies in sort_movies:\n",
        "     print(df.title[movies[0]])\n"
      ],
      "execution_count": null,
      "outputs": []
    }
  ]
}